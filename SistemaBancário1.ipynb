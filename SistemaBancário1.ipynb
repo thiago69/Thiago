{
  "nbformat": 4,
  "nbformat_minor": 0,
  "metadata": {
    "colab": {
      "provenance": [],
      "authorship_tag": "ABX9TyME+UmUlicexZR0acoa5BUV",
      "include_colab_link": true
    },
    "kernelspec": {
      "name": "python3",
      "display_name": "Python 3"
    },
    "language_info": {
      "name": "python"
    }
  },
  "cells": [
    {
      "cell_type": "markdown",
      "metadata": {
        "id": "view-in-github",
        "colab_type": "text"
      },
      "source": [
        "<a href=\"https://colab.research.google.com/github/thiago69/Thiago/blob/main/SistemaBanc%C3%A1rio1.ipynb\" target=\"_parent\"><img src=\"https://colab.research.google.com/assets/colab-badge.svg\" alt=\"Open In Colab\"/></a>"
      ]
    },
    {
      "cell_type": "code",
      "execution_count": null,
      "metadata": {
        "id": "_8Y96MB8_PQH"
      },
      "outputs": [],
      "source": [
        "menu = \"\"\"\n",
        "\n",
        "[d] Depositar\n",
        "[s] Sacar\n",
        "[e] Extrato\n",
        "[q] Sair\n",
        "\n",
        "=> \"\"\"\n",
        "\n",
        "saldo = 0\n",
        "limite = 500\n",
        "extrato = \"\"\n",
        "numero_saques = 0\n",
        "LIMITE_SAQUES = 3\n",
        "\n",
        "while True:\n",
        "\n",
        "    opcao = input(menu)\n",
        "\n",
        "    if opcao == \"d\":\n",
        "        valor = float(input(\"Informe o valor do depósito: \"))\n",
        "\n",
        "        if valor > 0:\n",
        "            saldo += valor\n",
        "            extrato += f\"Depósito: R$ {valor:.2f}\\n\"\n",
        "\n",
        "        else:\n",
        "            print(\"Operação falhou! O valor informado é inválido.\")\n",
        "\n",
        "    elif opcao == \"s\":\n",
        "        valor = float(input(\"Informe o valor do saque: \"))\n",
        "\n",
        "        excedeu_saldo = valor > saldo\n",
        "\n",
        "        excedeu_limite = valor > limite\n",
        "\n",
        "        excedeu_saques = numero_saques >= LIMITE_SAQUES\n",
        "\n",
        "        if excedeu_saldo:\n",
        "            print(\"Operação falhou! Você não tem saldo suficiente.\")\n",
        "\n",
        "        elif excedeu_limite:\n",
        "            print(\"Operação falhou! O valor do saque excede o limite.\")\n",
        "\n",
        "        elif excedeu_saques:\n",
        "            print(\"Operação falhou! Número máximo de saques excedido.\")\n",
        "\n",
        "        elif valor > 0:\n",
        "            saldo -= valor\n",
        "            extrato += f\"Saque: R$ {valor:.2f}\\n\"\n",
        "            numero_saques += 1\n",
        "\n",
        "        else:\n",
        "            print(\"Operação falhou! O valor informado é inválido.\")\n",
        "\n",
        "    elif opcao == \"e\":\n",
        "        print(\"\\n================ EXTRATO ================\")\n",
        "        print(\"Não foram realizadas movimentações.\" if not extrato else extrato)\n",
        "        print(f\"\\nSaldo: R$ {saldo:.2f}\")\n",
        "        print(\"==========================================\")\n",
        "\n",
        "    elif opcao == \"q\":\n",
        "        break\n",
        "\n",
        "    else:\n",
        "        print(\"Operação inválida, por favor selecione novamente a operação desejada.\")"
      ]
    }
  ]
}